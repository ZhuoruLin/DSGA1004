{
 "cells": [
  {
   "cell_type": "markdown",
   "metadata": {},
   "source": [
    "# Finding Frequent Item\n",
    "Reference: Mining of Massive Dataset by Jure Leskovec, Anand Rajaraman, Jeff Ullman.\n",
    "Chapter 6\n",
    "Book Url: http://infolab.stanford.edu/~ullman/mmds/ch6.pdf"
   ]
  },
  {
   "cell_type": "code",
   "execution_count": 10,
   "metadata": {
    "collapsed": true
   },
   "outputs": [],
   "source": [
    "import numpy as np"
   ]
  },
  {
   "cell_type": "markdown",
   "metadata": {},
   "source": [
    "## A-Priori Algorithm\n",
    "Suppose we have transactions that satisfy the following assumptions:\n",
    "s, the support threshold, is 10,000.\n",
    "\n",
    "There are one million items, which are represented by the integers 0,1,...,999999.\n",
    "\n",
    "There are N frequent items, that is, items that occur 10,000 times or more.\n",
    "\n",
    "There are one million pairs that occur 10,000 times or more.\n",
    "\n",
    "There are 2M pairs that occur exactly once. M of these pairs consist of two frequent items, the other M each have at least one nonfrequent item.\n",
    "\n",
    "No other pairs occur at all.\n",
    "\n",
    "Integers are always represented by 4 bytes.\n",
    "\n",
    "Suppose we run the a-priori algorithm to find frequent pairs and can choose on the second pass between the triangular-matrix method for counting candidate pairs (a triangular array count[i][j] that holds an integer count for each pair of items (i, j) where i < j) and a hash table of item-item-count triples. Neglect in the first case the space needed to translate between original item numbers and numbers for the frequent items, and in the second case neglect the space needed for the hash table. Assume that item numbers and counts are always 4-byte integers.\n",
    "\n",
    "As a function of N and M, what is the minimum number of bytes of main memory needed to execute the a-priori algorithm on this data? Demonstrate that you have the correct formula by selecting, from the choices below, the triple consisting of values for N, M, and the (approximate, i.e., to within 10%) minumum number of bytes of main memory, S, needed for the a-priori algorithm to execute with this data."
   ]
  },
  {
   "cell_type": "code",
   "execution_count": 11,
   "metadata": {
    "collapsed": true
   },
   "outputs": [],
   "source": [
    "#Number of frequent items\n",
    "N = 10000\n",
    "#Number of frequent pairs\n",
    "nfp = 10**6 # One million\n",
    "#Number of other pairs with counts\n",
    "M = 50*10**6\n",
    "##################################\n",
    "#Calculation\n",
    "##################################\n",
    "#Number of candidate pairs (approximation of N choose 2)\n",
    "c2 = N**2/2\n",
    "#Memory needed for triangular array\n",
    "tri_array_size = c2*4\n",
    "#Memory needed for triples \n",
    "triple_size = (nfp+M)*12"
   ]
  },
  {
   "cell_type": "code",
   "execution_count": 12,
   "metadata": {
    "collapsed": false
   },
   "outputs": [
    {
     "data": {
      "text/plain": [
       "200000000.0"
      ]
     },
     "execution_count": 12,
     "metadata": {},
     "output_type": "execute_result"
    }
   ],
   "source": [
    "#output the less memory\n",
    "min(tri_array_size,triple_size)"
   ]
  },
  {
   "cell_type": "markdown",
   "metadata": {},
   "source": [
    "## PCY Algorithm\n",
    "Suppose we perform the PCY algorithm to find frequent pairs, with market-basket data meeting the following specifications:\n",
    "\n",
    "s, the support threshold, is 10,000.\n",
    "\n",
    "There are one million items, which are represented by the integers 0,1,...,999999.\n",
    "\n",
    "There are 250,000 frequent items, that is, items that occur 10,000 times or more.\n",
    "\n",
    "There are one million pairs that occur 10,000 times or more.\n",
    "\n",
    "There are P pairs that occur exactly once and consist of 2 frequent items.\n",
    "\n",
    "No other pairs occur at all.\n",
    "\n",
    "Integers are always represented by 4 bytes.\n",
    "\n",
    "When we hash pairs, they distribute among buckets randomly, but as evenly as possible; i.e., you may assume that each bucket gets exactly its fair share of the P pairs that occur once.\n",
    "\n",
    "Suppose there are S bytes of main memory. In order to run the PCY algorithm successfully, the number of buckets must be sufficiently large that most buckets are not frequent. In addition, on the second pass, there must be enough room to count all the candidate pairs. As a function of S, what is the largest value of P for which we can successfully run the PCY algorithm on this data? Demonstrate that you have the correct formula by indicating which of the following is a value for S and a value for P that is approximately (i.e., to within 10%) the largest possible value of P for that S."
   ]
  },
  {
   "cell_type": "code",
   "execution_count": 21,
   "metadata": {
    "collapsed": true
   },
   "outputs": [],
   "source": [
    "# For PCY Algorithm\n",
    "#Main Memory in Bytes\n",
    "S = 300000000\n",
    "#Number of frequent pairs\n",
    "nfp = 10**6 # One million\n",
    "##################################\n",
    "#Calculation\n",
    "##################################\n",
    "#Number of basket\n",
    "nbasket = S/4.\n",
    "#fraction of frequent baskets (probability)\n",
    "frac_fb = nfp/nbasket"
   ]
  },
  {
   "cell_type": "code",
   "execution_count": 41,
   "metadata": {
    "collapsed": false
   },
   "outputs": [],
   "source": [
    "#Maximun P\n",
    "P = S/(12*frac_fb)"
   ]
  },
  {
   "cell_type": "code",
   "execution_count": 42,
   "metadata": {
    "collapsed": false
   },
   "outputs": [],
   "source": [
    "num_digits = np.floor(np.log10(P))\n",
    "round_num = int(10**(num_digits-1))"
   ]
  },
  {
   "cell_type": "code",
   "execution_count": 43,
   "metadata": {
    "collapsed": false
   },
   "outputs": [
    {
     "data": {
      "text/plain": [
       "1800000000"
      ]
     },
     "execution_count": 43,
     "metadata": {},
     "output_type": "execute_result"
    }
   ],
   "source": [
    "int((P//round_num)*round_num)"
   ]
  },
  {
   "cell_type": "markdown",
   "metadata": {},
   "source": [
    "## Multi-stage\n",
    "Suppose we perform the 3-pass multistage algorithm to find frequent pairs, with market-basket data meeting the following specifications:\n",
    "\n",
    "s, the support threshold, is 10,000.\n",
    "\n",
    "There are one million items, which are represented by the integers 0,1,...,999999.\n",
    "\n",
    "All one million items are frequent; that is, they occur at least 10,000 times.\n",
    "\n",
    "There are one million pairs that occur 10,000 times or more.\n",
    "\n",
    "There are P pairs that occur exactly once.\n",
    "\n",
    "Integers are always represented by 4 bytes.\n",
    "\n",
    "When we hash pairs, they distribute among buckets randomly, but as evenly as possible; i.e., you may assume that each bucket gets exactly its fair share of the P pairs that occur once.\n",
    "\n",
    "The hash functions on the first two passes are completely independent.\n",
    "\n",
    "Suppose there are S bytes of main memory. As a function of S and P, what is the exected number of candidate pairs on the third pass of the multistage algorithm? Demonstrate the correctness of your formula by dentifying which of the following triples of values for S, P, and N is N approximately (i.e., to within 10%) the expected number of candidate pairs for the third pass."
   ]
  },
  {
   "cell_type": "code",
   "execution_count": 37,
   "metadata": {
    "collapsed": true
   },
   "outputs": [],
   "source": [
    "#Input here\n",
    "S = '300,000,000'\n",
    "P = '100,000,000,000'"
   ]
  },
  {
   "cell_type": "code",
   "execution_count": 38,
   "metadata": {
    "collapsed": false
   },
   "outputs": [],
   "source": [
    "# For Multi-stage Algorithm\n",
    "#Main Memory in Giga Bytes\n",
    "S = int(S.replace(',',''))\n",
    "#Number of frequent pairs\n",
    "nfp = 10**6 # One million\n",
    "#Number of other pairs with counts\n",
    "P = int(P.replace(',',''))\n",
    "##################################\n",
    "#Calculation\n",
    "##################################\n",
    "#Number of basket\n",
    "nbasket = S/4.\n",
    "#fraction of frequent baskets (Probability that candiate pairs hashed to frequent basket in a pass)\n",
    "frac_fb = nfp/nbasket\n",
    "#Candidate pair for counting\n",
    "N = P*(frac_fb**2)+nfp"
   ]
  },
  {
   "cell_type": "code",
   "execution_count": 39,
   "metadata": {
    "collapsed": false
   },
   "outputs": [],
   "source": [
    "num_digits = np.floor(np.log10(N))\n",
    "round_num = int(10**(num_digits-2))"
   ]
  },
  {
   "cell_type": "code",
   "execution_count": 40,
   "metadata": {
    "collapsed": false
   },
   "outputs": [
    {
     "data": {
      "text/plain": [
       "18700000"
      ]
     },
     "execution_count": 40,
     "metadata": {},
     "output_type": "execute_result"
    }
   ],
   "source": [
    "int((N//round_num)*round_num)"
   ]
  },
  {
   "cell_type": "markdown",
   "metadata": {},
   "source": [
    "## Binary Search or Triangular Matrix?\n",
    "In this problem, assume all integers and pointers occupy 4 bytes. The assumption that we count represent pair-counts with triples (i,j,c) for the pair i, j with count c does not account for the space needed to build an efficient data structure to find i-j pairs when we need them. Suppose we use a binary search tree, where each node is a quintuple (i,j,c,leftChild,rightChild). Suppose also that there are I items, and P pairs that actually appear in the data. Under what circumstances does it save space to use the above binary-search tree rather than a triangular matrix?"
   ]
  },
  {
   "cell_type": "code",
   "execution_count": 20,
   "metadata": {
    "collapsed": true
   },
   "outputs": [],
   "source": [
    "I = 20000; P = 30000000"
   ]
  },
  {
   "cell_type": "code",
   "execution_count": 146,
   "metadata": {
    "collapsed": false
   },
   "outputs": [
    {
     "data": {
      "text/plain": [
       "True"
      ]
     },
     "execution_count": 146,
     "metadata": {},
     "output_type": "execute_result"
    }
   ],
   "source": [
    "2*I**2 > P*20"
   ]
  }
 ],
 "metadata": {
  "anaconda-cloud": {},
  "kernelspec": {
   "display_name": "Python [conda env:py35]",
   "language": "python",
   "name": "conda-env-py35-py"
  },
  "language_info": {
   "codemirror_mode": {
    "name": "ipython",
    "version": 3
   },
   "file_extension": ".py",
   "mimetype": "text/x-python",
   "name": "python",
   "nbconvert_exporter": "python",
   "pygments_lexer": "ipython3",
   "version": "3.5.2"
  }
 },
 "nbformat": 4,
 "nbformat_minor": 1
}
