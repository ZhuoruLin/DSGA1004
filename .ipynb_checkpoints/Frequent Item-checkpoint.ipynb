{
 "cells": [
  {
   "cell_type": "code",
   "execution_count": 47,
   "metadata": {
    "collapsed": true
   },
   "outputs": [],
   "source": [
    "import numpy as np"
   ]
  },
  {
   "cell_type": "code",
   "execution_count": 73,
   "metadata": {
    "collapsed": true
   },
   "outputs": [],
   "source": [
    "u = [1, 0.25, 0, 0, 0.5, 0] \n",
    "v = [0.75, 0, 0, 0.2, 0.4, 0] \n",
    "w = [0, 0.1, 0.75, 0, 0, 1]"
   ]
  },
  {
   "cell_type": "code",
   "execution_count": 42,
   "metadata": {
    "collapsed": false
   },
   "outputs": [],
   "source": [
    "import numpy as np\n",
    "from scipy.spatial.distance import cosine as cosdist\n",
    "from scipy.spatial.distance import pdist\n",
    "from numpy.linalg import norm"
   ]
  },
  {
   "cell_type": "code",
   "execution_count": 74,
   "metadata": {
    "collapsed": false
   },
   "outputs": [],
   "source": [
    "u = np.array(u)\n",
    "v = np.array(v)\n",
    "w = np.array(w)"
   ]
  },
  {
   "cell_type": "code",
   "execution_count": 77,
   "metadata": {
    "collapsed": false
   },
   "outputs": [
    {
     "data": {
      "text/plain": [
       "0.94962912354627982"
      ]
     },
     "execution_count": 77,
     "metadata": {},
     "output_type": "execute_result"
    }
   ],
   "source": [
    "1-cosdist(u,v)"
   ]
  },
  {
   "cell_type": "code",
   "execution_count": 79,
   "metadata": {
    "collapsed": true
   },
   "outputs": [],
   "source": [
    "string = '1111000000  0100100101  0000011110  0111111111  1011111111'"
   ]
  },
  {
   "cell_type": "code",
   "execution_count": 80,
   "metadata": {
    "collapsed": false
   },
   "outputs": [],
   "source": [
    "strings = string.split()"
   ]
  },
  {
   "cell_type": "code",
   "execution_count": 81,
   "metadata": {
    "collapsed": false
   },
   "outputs": [],
   "source": [
    "a,b,c,d,e = [[string[i] for i in range(len(string))] for string in strings]"
   ]
  },
  {
   "cell_type": "code",
   "execution_count": 78,
   "metadata": {
    "collapsed": false
   },
   "outputs": [
    {
     "data": {
      "text/plain": [
       "array([ 6.,  8.,  7.,  7.,  6.,  5.,  7.,  5.,  5.,  2.])"
      ]
     },
     "execution_count": 78,
     "metadata": {},
     "output_type": "execute_result"
    }
   ],
   "source": [
    "pdist([[string[i] for i in range(len(string))] for string in strings],'cityblock')"
   ]
  },
  {
   "cell_type": "code",
   "execution_count": 82,
   "metadata": {
    "collapsed": false
   },
   "outputs": [
    {
     "data": {
      "text/plain": [
       "array([ 0.25      ,  0.        ,  0.5       ,  0.5       ,  0.25      ,\n",
       "        0.66666667,  0.5       ,  0.66666667,  0.66666667,  0.88888889])"
      ]
     },
     "execution_count": 82,
     "metadata": {},
     "output_type": "execute_result"
    }
   ],
   "source": [
    "1-pdist([[string[i] for i in range(len(string))] for string in strings],'cosine')"
   ]
  },
  {
   "cell_type": "code",
   "execution_count": 51,
   "metadata": {
    "collapsed": false
   },
   "outputs": [
    {
     "data": {
      "text/plain": [
       "array([ 0.85714286,  1.        ,  0.7       ,  0.7       ,  0.85714286,\n",
       "        0.55555556,  0.7       ,  0.55555556,  0.55555556,  0.2       ])"
      ]
     },
     "execution_count": 51,
     "metadata": {},
     "output_type": "execute_result"
    }
   ],
   "source": [
    "pdist([[string[i] for i in range(len(string))] for string in strings],'jaccard')"
   ]
  },
  {
   "cell_type": "code",
   "execution_count": 70,
   "metadata": {
    "collapsed": true
   },
   "outputs": [],
   "source": [
    "u = [1, 0.25, 0, 0, 0.5, 0] \n",
    "v = [0.75, 0, 0, 0.2, 0.4, 0] \n",
    "w = [0, 0.1, 0.75, 0, 0, 1]\n",
    "u = np.array(u)\n",
    "v = np.array(v)\n",
    "w = np.array(w)"
   ]
  },
  {
   "cell_type": "code",
   "execution_count": 71,
   "metadata": {
    "collapsed": true
   },
   "outputs": [],
   "source": [
    "r1 = np.array([1, -1, 1, -1, 1, -1] )\n",
    "r2 = np.array([-1, -1, 1, 1, -1, 1] )\n",
    "r3 = np.array([1, 1, 1, 1, 1, 1])"
   ]
  },
  {
   "cell_type": "code",
   "execution_count": 72,
   "metadata": {
    "collapsed": false
   },
   "outputs": [
    {
     "data": {
      "text/plain": [
       "[[1.0, -1.0, 1.0], [1.0, -1.0, 1.0], [-1.0, 1.0, 1.0]]"
      ]
     },
     "execution_count": 72,
     "metadata": {},
     "output_type": "execute_result"
    }
   ],
   "source": [
    "[[np.sign(x.dot(r)) for r in [r1,r2,r3]] for x in [u,v,w]]"
   ]
  },
  {
   "cell_type": "code",
   "execution_count": 59,
   "metadata": {
    "collapsed": false
   },
   "outputs": [
    {
     "data": {
      "text/plain": [
       "0.21599999999999997"
      ]
     },
     "execution_count": 59,
     "metadata": {},
     "output_type": "execute_result"
    }
   ],
   "source": [
    "0.6**3"
   ]
  },
  {
   "cell_type": "code",
   "execution_count": 60,
   "metadata": {
    "collapsed": false
   },
   "outputs": [
    {
     "data": {
      "text/plain": [
       "0.06400000000000002"
      ]
     },
     "execution_count": 60,
     "metadata": {},
     "output_type": "execute_result"
    }
   ],
   "source": [
    "0.4**3"
   ]
  },
  {
   "cell_type": "code",
   "execution_count": 67,
   "metadata": {
    "collapsed": false
   },
   "outputs": [
    {
     "data": {
      "text/plain": [
       "0.64"
      ]
     },
     "execution_count": 67,
     "metadata": {},
     "output_type": "execute_result"
    }
   ],
   "source": [
    "1-(1-0.4)**2"
   ]
  },
  {
   "cell_type": "code",
   "execution_count": 84,
   "metadata": {
    "collapsed": false
   },
   "outputs": [],
   "source": [
    "s1 = 'abcef'\n",
    "s2 = 'acdeg'\n",
    "s3 = 'bcdefg'\n",
    "s4 = 'adfg'\n",
    "s5 = 'bcdfgh'\n",
    "s6 = 'bceg'\n",
    "s7 = 'cdfg'\n",
    "s8 = 'abcd'"
   ]
  },
  {
   "cell_type": "code",
   "execution_count": 85,
   "metadata": {
    "collapsed": true
   },
   "outputs": [],
   "source": [
    "strings_list = [s1,s2,s3,s4,s5,s6,s7,s8]"
   ]
  },
  {
   "cell_type": "code",
   "execution_count": 86,
   "metadata": {
    "collapsed": true
   },
   "outputs": [],
   "source": [
    "import pandas as pd"
   ]
  },
  {
   "cell_type": "code",
   "execution_count": null,
   "metadata": {
    "collapsed": true
   },
   "outputs": [],
   "source": [
    "info"
   ]
  },
  {
   "cell_type": "code",
   "execution_count": 1,
   "metadata": {
    "collapsed": true
   },
   "outputs": [],
   "source": [
    "# Gradience Quize"
   ]
  },
  {
   "cell_type": "code",
   "execution_count": 2,
   "metadata": {
    "collapsed": true
   },
   "outputs": [],
   "source": [
    "S = 100000000; P = 1000000000"
   ]
  },
  {
   "cell_type": "code",
   "execution_count": 10,
   "metadata": {
    "collapsed": true
   },
   "outputs": [],
   "source": [
    "S = 400000000; P = 160000000000"
   ]
  },
  {
   "cell_type": "code",
   "execution_count": 11,
   "metadata": {
    "collapsed": false
   },
   "outputs": [
    {
     "name": "stdout",
     "output_type": "stream",
     "text": [
      "16000000.0\n"
     ]
    }
   ],
   "source": [
    "npairs = P; nfp = 10**6\n",
    "p1=nfp*4/S\n",
    "N = npairs*p1**2\n",
    "print(N)"
   ]
  },
  {
   "cell_type": "markdown",
   "metadata": {},
   "source": [
    "# A-Priori Algorithm"
   ]
  },
  {
   "cell_type": "code",
   "execution_count": 137,
   "metadata": {
    "collapsed": true
   },
   "outputs": [],
   "source": [
    "#Number of frequent items\n",
    "N = 100000\n",
    "#Number of frequent pairs\n",
    "nfp = 10**6 # One million\n",
    "#Number of other pairs with counts\n",
    "M = 100*10**6\n",
    "##################################\n",
    "#Calculation\n",
    "##################################\n",
    "#Number of candidate pairs (approximately)\n",
    "c2 = N**2/2\n",
    "#Memory needed for triangular array\n",
    "tri_array_size = c2*4\n",
    "#Memory needed for triples \n",
    "triple_size = (nfp+M)*12"
   ]
  },
  {
   "cell_type": "code",
   "execution_count": 138,
   "metadata": {
    "collapsed": false
   },
   "outputs": [
    {
     "data": {
      "text/plain": [
       "1212000000"
      ]
     },
     "execution_count": 138,
     "metadata": {},
     "output_type": "execute_result"
    }
   ],
   "source": [
    "#output the less memory\n",
    "# S\n",
    "min(tri_array_size,triple_size)"
   ]
  },
  {
   "cell_type": "markdown",
   "metadata": {},
   "source": [
    "# PCY Algorithm"
   ]
  },
  {
   "cell_type": "code",
   "execution_count": 99,
   "metadata": {
    "collapsed": true
   },
   "outputs": [],
   "source": [
    "# For PCY Algorithm\n",
    "#Main Memory in Bytes\n",
    "S = 500000000\n",
    "#Number of frequent pairs\n",
    "nfp = 10**6 # One million\n",
    "##################################\n",
    "#Calculation\n",
    "##################################\n",
    "#Number of basket\n",
    "nbasket = S/4.\n",
    "#fraction of frequent baskets\n",
    "frac_fb = nfp/nbasket"
   ]
  },
  {
   "cell_type": "code",
   "execution_count": 100,
   "metadata": {
    "collapsed": false
   },
   "outputs": [],
   "source": [
    "#Number of other pairs with counts (Approximation)\n",
    "P = S/(12*frac_fb)"
   ]
  },
  {
   "cell_type": "code",
   "execution_count": 101,
   "metadata": {
    "collapsed": false
   },
   "outputs": [],
   "source": [
    "num_digits = np.floor(np.log10(P))\n",
    "round_num = int(10**(num_digits-1))"
   ]
  },
  {
   "cell_type": "code",
   "execution_count": 102,
   "metadata": {
    "collapsed": false
   },
   "outputs": [
    {
     "data": {
      "text/plain": [
       "5200000000"
      ]
     },
     "execution_count": 102,
     "metadata": {},
     "output_type": "execute_result"
    }
   ],
   "source": [
    "int((P//round_num)*round_num)"
   ]
  },
  {
   "cell_type": "markdown",
   "metadata": {},
   "source": [
    "# Multi-stage"
   ]
  },
  {
   "cell_type": "code",
   "execution_count": 128,
   "metadata": {
    "collapsed": true
   },
   "outputs": [],
   "source": [
    "# For Multi-stage Algorithm\n",
    "#Main Memory in Giga Bytes\n",
    "S = int('400,000,000'.replace(',',''))\n",
    "#Number of frequent pairs\n",
    "nfp = 10**6 # One million\n",
    "#Number of other pairs with counts\n",
    "P = int('160,000,000,000'.replace(',',''))\n",
    "##################################\n",
    "#Calculation\n",
    "##################################\n",
    "#Number of basket\n",
    "nbasket = S/4.\n",
    "#fraction of frequent baskets (Probability that candiate pairs hashed to frequent basket in a pass)\n",
    "frac_fb = nfp/nbasket\n",
    "#Candidate pair for counting\n",
    "N = P*(frac_fb**2)+nfp"
   ]
  },
  {
   "cell_type": "code",
   "execution_count": 129,
   "metadata": {
    "collapsed": false
   },
   "outputs": [],
   "source": [
    "#indicator whether memory is enough\n",
    "num_digits = np.floor(np.log10(N))\n",
    "round_num = int(10**(num_digits-4))"
   ]
  },
  {
   "cell_type": "code",
   "execution_count": 130,
   "metadata": {
    "collapsed": false
   },
   "outputs": [
    {
     "data": {
      "text/plain": [
       "17000000"
      ]
     },
     "execution_count": 130,
     "metadata": {},
     "output_type": "execute_result"
    }
   ],
   "source": [
    "int((N//round_num)*round_num)"
   ]
  },
  {
   "cell_type": "markdown",
   "metadata": {},
   "source": [
    "# Binary Search or Triangular Matrix?"
   ]
  },
  {
   "cell_type": "code",
   "execution_count": 107,
   "metadata": {
    "collapsed": true
   },
   "outputs": [],
   "source": [
    "I = 100000; P = 900000000"
   ]
  },
  {
   "cell_type": "code",
   "execution_count": 108,
   "metadata": {
    "collapsed": false
   },
   "outputs": [
    {
     "data": {
      "text/plain": [
       "True"
      ]
     },
     "execution_count": 108,
     "metadata": {},
     "output_type": "execute_result"
    }
   ],
   "source": [
    "2*I**2 > P*20"
   ]
  },
  {
   "cell_type": "code",
   "execution_count": null,
   "metadata": {
    "collapsed": true
   },
   "outputs": [],
   "source": []
  }
 ],
 "metadata": {
  "anaconda-cloud": {},
  "kernelspec": {
   "display_name": "Python [conda env:py35]",
   "language": "python",
   "name": "conda-env-py35-py"
  },
  "language_info": {
   "codemirror_mode": {
    "name": "ipython",
    "version": 3
   },
   "file_extension": ".py",
   "mimetype": "text/x-python",
   "name": "python",
   "nbconvert_exporter": "python",
   "pygments_lexer": "ipython3",
   "version": "3.5.2"
  }
 },
 "nbformat": 4,
 "nbformat_minor": 1
}
